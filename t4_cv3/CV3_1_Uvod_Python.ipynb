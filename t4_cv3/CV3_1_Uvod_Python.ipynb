{
 "cells": [
  {
   "cell_type": "markdown",
   "id": "497228f1-fa14-47b6-83a1-7038726dc50c",
   "metadata": {},
   "source": [
    "## Úvod do Pythonu\n",
    "\n",
    "- vysokoúrovňový programovací jazyk\n",
    "- interpretovaný (nevytvára spustiteľný kód)\n",
    "- objektovo-orientovaný\n",
    "- freeware a open source\n",
    "- dynamicky typovaný\n",
    "- množstvo knižníc, najmä na spracovanie a vizualizáciu údajov alebo strojové a hlboké učenie "
   ]
  },
  {
   "cell_type": "markdown",
   "id": "6a2eea7a-b43c-4e09-9040-210983983d22",
   "metadata": {},
   "source": [
    "### 1. Základná syntax\n",
    "\n",
    "- oddeľovanie pomocou indentácie (tab)\n",
    "- bez bodkočiarok\n",
    "\n",
    "+ výpis na konzolu - funkcia print - https://docs.python.org/3/library/functions.html#print"
   ]
  },
  {
   "cell_type": "code",
   "execution_count": null,
   "id": "307144ea-c176-42dd-b2ca-e6bf64ba6227",
   "metadata": {},
   "outputs": [],
   "source": [
    "# example of a print statement\n",
    "print(\"Hello, World!\")  "
   ]
  },
  {
   "cell_type": "markdown",
   "id": "b5c43341-bbc8-4073-8c66-fec5371c9486",
   "metadata": {},
   "source": [
    "### 2. Dátové typy a premenné\n",
    "\n",
    "- vstavané dátové typy a operácie: https://docs.python.org/3/library/stdtypes.html\n",
    "- Text : str\n",
    "- Číselné :\tint, float, complex\n",
    "- Sekvenčné : list, tuple, range\n",
    "- Mapovacie : dict\n",
    "- Množinové : set, frozenset\n",
    "- Booleovské : bool\n",
    "- Binárne : bytes, bytearray, memoryview\n",
    "- None:\tNoneType (None objekt - nemá hodnotu) - https://docs.python.org/3/c-api/none.html\n",
    " \n",
    "+ ďalšie - https://docs.python.org/3/library/datatypes.html\n",
    "\n",
    "+ nie je potrebné definovať dátový typ pri vytvátaní premennej\n",
    "+ je možné ho dynamicky meniť\n",
    "\n",
    "- operácie\n",
    "    - priradenie =\n",
    "    - porovnávanie ==,!=,>,<, >=, <=, ...\n",
    "    - negácia `not`\n",
    "\n",
    "+ zistenie typu premennej - funkcia type - https://docs.python.org/3/library/functions.html#type "
   ]
  },
  {
   "cell_type": "code",
   "execution_count": null,
   "id": "95d48f3d-1171-47d5-852c-03752e0a8866",
   "metadata": {},
   "outputs": [],
   "source": [
    "# variables and data types\n",
    "name = \"John\"  # String\n",
    "age = 25  # Integer\n",
    "height = 6.2  # Float\n",
    "\n",
    "is_green = False # Bool\n",
    "print(is_green)\n",
    "\n",
    "print(type(name))\n",
    "print(type(is_green))"
   ]
  },
  {
   "cell_type": "markdown",
   "id": "990971aa-8e68-4ca3-8cc8-25c45e355fb3",
   "metadata": {},
   "source": [
    "### 3. Operátory\n",
    "\n",
    "- použiteľné štandardne, alebo ako funkcie (potrebné importovaqť modul operator)\n",
    "    - dokumentácia (tabuľka) - https://docs.python.org/3/library/operator.html#module-operator\n",
    " \n",
    "- #### Aritmetické"
   ]
  },
  {
   "cell_type": "code",
   "execution_count": null,
   "id": "909a29f2-d334-4c03-9d27-9f117a589640",
   "metadata": {},
   "outputs": [],
   "source": [
    "# arithmetic operations\n",
    "result = 10 + height * 2\n",
    "print(\"Arithmetic Operation Result:\", result)\n",
    "\n",
    "# exponation\n",
    "print(\"Result to the power of 2\", pow(result, 2))"
   ]
  },
  {
   "cell_type": "markdown",
   "id": "969e86b7-04cb-45dd-8176-ba67f30f38cd",
   "metadata": {},
   "source": [
    "- #### Porovnávacie"
   ]
  },
  {
   "cell_type": "code",
   "execution_count": null,
   "id": "c2364de0-8566-4df1-bd0d-836611059778",
   "metadata": {},
   "outputs": [],
   "source": [
    "import operator\n",
    "\n",
    "print(\"Is height smaller than age?: \", height < age)\n",
    "\n",
    "width = 23.7\n",
    "compare = operator.ge(result, width) # greater or equal\n",
    "print(\"Is result greater or equal to width?:\", compare)\n"
   ]
  },
  {
   "cell_type": "markdown",
   "id": "807279e3-4f40-495f-a043-a124f7942763",
   "metadata": {},
   "source": [
    "- #### Logické\n",
    "\n",
    "- pozor na typy, ktoré porovnávate (napr. bool a int)"
   ]
  },
  {
   "cell_type": "code",
   "execution_count": null,
   "id": "33a5b521-7b25-4402-9a2d-07a2c551be42",
   "metadata": {},
   "outputs": [],
   "source": [
    "# zero is integer\n",
    "is_true = is_green or 0\n",
    "print(\"Value of is_true:\", is_true)\n",
    "print(\"Value of is_green:\", is_green)\n",
    "\n",
    "print(\"Operator sign comparison: \", is_true & False)\n",
    "\n",
    "operator.is_not(is_true, is_green)"
   ]
  },
  {
   "cell_type": "markdown",
   "id": "60a3b3a5-2c82-400f-8ce7-4465de7bdf9f",
   "metadata": {},
   "source": [
    "### 4. Podmienky\n",
    "\n",
    "- odsadenie\n",
    "- `if` - `elif` - `else`"
   ]
  },
  {
   "cell_type": "code",
   "execution_count": null,
   "id": "a6fa9d60-f398-4926-9244-1505d3e5cb6e",
   "metadata": {},
   "outputs": [],
   "source": [
    "# conditions\n",
    "age = 25\n",
    "\n",
    "if age >= 18:\n",
    "    print(\"You are an adult.\")\n",
    "elif age == 17:\n",
    "    print(\"Almost there.\")\n",
    "else:\n",
    "    print(\"You are a minor.\")"
   ]
  },
  {
   "cell_type": "markdown",
   "id": "07d8566f-c0f3-4fba-8b1a-2b9d8b64a3d9",
   "metadata": {},
   "source": [
    "### 5. Cykly\n",
    "\n",
    "- for, while\n",
    "- break a continue, ako v iných jazykoch\n",
    "- použitie `else` - príkazy, ktoré sa majú vykonať po vykonaní cyklu, ak nebol ukončený pomocou `break`\n",
    "- pri for cykle je potrebné vytvoriť iterovateľný objekt - napr. sekvencia čísel\n",
    "\n",
    "+ funkcia range - sekvencia čísel - https://docs.python.org/3/library/functions.html#func-range\n",
    "+ funkcia len - dlžka zoznamu - https://docs.python.org/3/library/functions.html#len"
   ]
  },
  {
   "cell_type": "code",
   "execution_count": null,
   "id": "dc024f24-5b26-4bc8-a6af-e5b23bab326b",
   "metadata": {},
   "outputs": [],
   "source": [
    "# for loop\n",
    "for i in range(5):\n",
    "    if i == 3:\n",
    "        continue\n",
    "    print(\"Iteration:\", i)"
   ]
  },
  {
   "cell_type": "code",
   "execution_count": null,
   "id": "58fc20b4-bf77-4c1f-865d-cadd1b503bcf",
   "metadata": {},
   "outputs": [],
   "source": [
    "my_list = [\"a\", \"b\", \"c\"]\n",
    "\n",
    "for i in range(len(my_list)):\n",
    "    print(\"String in my_list:\", my_list[i])"
   ]
  },
  {
   "cell_type": "code",
   "execution_count": null,
   "id": "103927b8-5cec-4c33-9cf8-f490679c540c",
   "metadata": {},
   "outputs": [],
   "source": [
    "# while loop\n",
    "num = 0\n",
    "while num < 5:\n",
    "    print(\"While loop iteration:\", num)\n",
    "    num += 1\n",
    "\n",
    "    if num == 3:\n",
    "        break\n",
    "\n",
    "print(\"Num:\", num)\n",
    "# else:\n",
    "    # print(\"Num\", num)"
   ]
  },
  {
   "cell_type": "markdown",
   "id": "3464c648-5f7a-43ce-9ecc-d7d00c93f968",
   "metadata": {},
   "source": [
    "### 6. Funkcie\n",
    "\n",
    "- definované kľúčovým slovom `def` a odsadením obsahu funkcie\n",
    "- parametom sa neudáva typbez typu\n",
    "- optional parametre - majú predvolenú hodnotu, ktorá sa nastaví, ak hodnota parametra nie je definovaná\n",
    "\n",
    "+ dokumentačné komentáre - vo vnútri triedy/funkcie - označené `\"\"\"`"
   ]
  },
  {
   "cell_type": "code",
   "execution_count": null,
   "id": "9d750412-1978-431a-8f00-dd22e9a668af",
   "metadata": {},
   "outputs": [],
   "source": [
    "# functions\n",
    "# age is optional\n",
    "def greet(name, age = -1):\n",
    "    # documentation comment\n",
    "    \"\"\"Function to greet a person.\"\"\"\n",
    "    print(\"Name:\", name, \"\\tAge: \", age)\n",
    "\n",
    "# Function call\n",
    "greet(\"Alice\") \n",
    "greet(\"Ben\", 22) "
   ]
  },
  {
   "cell_type": "markdown",
   "id": "e0ed2bfa-995c-46dd-899f-5070c0c3ead0",
   "metadata": {},
   "source": [
    "### 7. Údajové štruktúry\n",
    "\n",
    "- list (`[]`), dictionary (`{kľúč : hodnota}`), set (`{}`), tuple (`()`)\n",
    "- dokumentacia - https://docs.python.org/3/tutorial/datastructures.html"
   ]
  },
  {
   "cell_type": "markdown",
   "id": "ead05319-5297-4f7b-8e17-15f2ddf1fc94",
   "metadata": {},
   "source": [
    "**List (Zoznam):**\n",
    "\n",
    "- definícia - pomocou `[]`\n",
    "- Uchováva poradie prvkov.\n",
    "- Prvky sú indexované - každý prvok má priradený index (začínajúci od 0) na identifikáciu jeho pozície v zozname.\n",
    "- Je `mutable` - jeho prvky môžu byť menené."
   ]
  },
  {
   "cell_type": "code",
   "execution_count": null,
   "id": "620bf940-5804-443d-b423-acd0a5000872",
   "metadata": {},
   "outputs": [],
   "source": [
    "# data structures\n",
    "# Lists\n",
    "numbers = [1, 2, 3, 4, 5]\n",
    "print(\"First element of the list:\", numbers[0])  # Accessing elements"
   ]
  },
  {
   "cell_type": "markdown",
   "id": "5d178f06-3ead-45f1-9c5f-04e2ff330040",
   "metadata": {},
   "source": [
    "**Dictionary (Slovník):**\n",
    "\n",
    "- definícia - pomocou `{}` a kľúčov - `kľúč : hodnota`\n",
    "- Uchováva dáta v pároch kľúč-hodnota podobne ako objekty JSON.\n",
    "- Kľúče musia byť jedinečné a sú hashovateľné.\n",
    "- Poradie prvkov je zachované tak, ako boli vložené (od verzie 3.7).\n",
    "- Tiež je `mutable`."
   ]
  },
  {
   "cell_type": "code",
   "execution_count": null,
   "id": "5d9f5c6f-691b-4a03-9c1a-2da0b9b180fc",
   "metadata": {},
   "outputs": [],
   "source": [
    "# dictionaries\n",
    "person = {'name': 'Alice', 'age': 30, 'city': 'New York'}\n",
    "print(\"Name:\", person['name'])"
   ]
  },
  {
   "cell_type": "markdown",
   "id": "55ce50eb-16d7-40af-9f8d-d815697266fc",
   "metadata": {},
   "source": [
    "**Set (Množina):**\n",
    "\n",
    "- definícia - pomocou `{}`\n",
    "- Obsahuje jedinečné prvky, žiadne duplikáty.\n",
    "- Prvky nie sú indexované, nie je možné ich získať pomocou indexu.\n",
    "- Je `mutable` a môže sa použiť na vykonávanie matematických operácií množín, ako sú zjednotenie, prienik, rozdiel atď."
   ]
  },
  {
   "cell_type": "code",
   "execution_count": null,
   "id": "63d8fb1c-4fa2-4510-888e-760a5e554fc9",
   "metadata": {},
   "outputs": [],
   "source": [
    "# sets\n",
    "fruits = {'apple', 'banana', 'orange'}\n",
    "print(\"Fruits:\", fruits)"
   ]
  },
  {
   "cell_type": "markdown",
   "id": "eb85c1d7-4c99-41a2-bcd7-b467ba1c6f03",
   "metadata": {},
   "source": [
    "**Tuple (N-tica):**\n",
    "\n",
    "- definícia - pomocou `()`\n",
    "- Uchováva poradie prvkov.\n",
    "- Prvky sú indexované a každý prvok má svoj unikátny index.\n",
    "- Je `immutable` (nemeniteľný) - jeho prvky nemôžu byť po vytvorení zmenené."
   ]
  },
  {
   "cell_type": "code",
   "execution_count": null,
   "id": "ce1b94e2-25a4-4f43-8eef-227ada3c046f",
   "metadata": {},
   "outputs": [],
   "source": [
    "# tuples\n",
    "coordinates = (10, 20)\n",
    "print(\"Coordinates:\", coordinates)\n",
    "print(\"Coordinate x:\", coordinates[0])"
   ]
  },
  {
   "cell_type": "markdown",
   "id": "60299278-3191-4363-afc4-c9c7438f3c6a",
   "metadata": {},
   "source": [
    "### 8. Práca so súbormi\n",
    "\n",
    "- zápis/čítanie\n",
    "+ mód otvorenia - určuje, ako bude súbor použitý (čítanie, zápis, pridávanie atď.).\n",
    "    - 'w' pre zápis (čo súbor vytvorí, alebo ak už existuje, prepíše)\n",
    "    - 'r' pre čítanie\n",
    "    - 'a' pre pridávanie (zápis na koniec súboru).\n",
    "\n",
    "- `with` klauzula (kontextový manažér) - https://docs.python.org/3/tutorial/inputoutput.html\n",
    "    - Pomáha spravovať súbory, automatizuje zatvorenie súboru po tom, čo je blok kódu pod klauzulou with dokončený. (aj pri vyhodení výnimky)\n",
    "    - Znižuje riziko zanechania otvoreného súboru, čo by mohlo viesť k únikom pamäti alebo iným problémom."
   ]
  },
  {
   "cell_type": "code",
   "execution_count": 23,
   "id": "a467d321-21ad-45a4-820c-acf8ce06854f",
   "metadata": {},
   "outputs": [],
   "source": [
    "# file handling\n",
    "# writing to a file\n",
    "with open('data/example.txt', 'w') as file:\n",
    "    file.write(\"This is an example text.\")"
   ]
  },
  {
   "cell_type": "code",
   "execution_count": null,
   "id": "b2739602-f8c0-4589-9e1f-63cfbc6d0485",
   "metadata": {},
   "outputs": [],
   "source": [
    "# reading from a file\n",
    "with open('data/example.txt', 'r') as file:\n",
    "    contents = file.read()\n",
    "    print(\"File contents:\", contents)\n"
   ]
  },
  {
   "cell_type": "markdown",
   "id": "6509247c-93d0-46a5-a311-bc8f2e2b1bc7",
   "metadata": {},
   "source": [
    "### 9. Knižnice / Moduly\n",
    "\n",
    "#### Inštalácia\n",
    "\n",
    "- najjednoduchšie pomocou pip (cez príkazový riadok, Python konzolu, príkaz ..)"
   ]
  },
  {
   "cell_type": "code",
   "execution_count": null,
   "id": "94de7db0-d321-4605-9d60-561d406a581d",
   "metadata": {},
   "outputs": [],
   "source": [
    "pip install matplotlib"
   ]
  },
  {
   "cell_type": "code",
   "execution_count": null,
   "id": "ea84e446-07a9-4f66-b6bd-ec7e47f9bf6d",
   "metadata": {},
   "outputs": [],
   "source": [
    "pip install numpy"
   ]
  },
  {
   "cell_type": "code",
   "execution_count": null,
   "id": "e06828fb-f91e-4ac7-97a1-f62141bc6ce8",
   "metadata": {},
   "outputs": [],
   "source": [
    "pip install pandas"
   ]
  },
  {
   "cell_type": "markdown",
   "id": "6e5641ae-97ef-45fb-a944-9c8f9b8aed5c",
   "metadata": {},
   "source": [
    "- kĺúčové slovo `import`\n",
    "- alias - skratka (np, pd, ..)\n",
    "- možnosť importovať len konkrétne objekty/funkcie z knižnice"
   ]
  },
  {
   "cell_type": "code",
   "execution_count": 25,
   "id": "af9f6efd-797f-45c6-88e1-77fba290f21c",
   "metadata": {},
   "outputs": [],
   "source": [
    "# introduction to Libraries\n",
    "import numpy as np\n",
    "import matplotlib.pyplot as plt\n",
    "\n",
    "from pandas import DataFrame"
   ]
  },
  {
   "cell_type": "markdown",
   "id": "60e2d590-7498-4616-ae12-984c02b2968a",
   "metadata": {},
   "source": [
    "- použitie knižnice - potrebné použiť názov (alias) knižnice"
   ]
  },
  {
   "cell_type": "code",
   "execution_count": null,
   "id": "9524368e-18a4-467a-adca-df80f6128b71",
   "metadata": {},
   "outputs": [],
   "source": [
    "# creating an array using NumPy library\n",
    "arr = np.array([1, 2, 3, 4, 5])\n",
    "print(\"Array:\", arr)"
   ]
  },
  {
   "cell_type": "markdown",
   "id": "d0a4159f-37d6-463d-b689-305810cf647b",
   "metadata": {},
   "source": [
    "**Vytvorenie modulu**\n",
    "- Python skript (.py) - import rovnako ako pri všetkých moduloch (tiež triedy, metódy, ..)"
   ]
  },
  {
   "cell_type": "code",
   "execution_count": null,
   "id": "2025bc5c-c1a7-4beb-9a25-8830a603eba5",
   "metadata": {},
   "outputs": [],
   "source": [
    "import my_module\n",
    "\n",
    "my_module.module_foo()"
   ]
  },
  {
   "cell_type": "markdown",
   "id": "f4b7e6ad-11d0-41b6-9e22-488ae9ce16ba",
   "metadata": {},
   "source": [
    "- #### Grafy\n",
    "- Matplotlib knižnica - dokumentácia - https://matplotlib.org/stable/index.html\n",
    "+ funkcia figure - vytvorenie novej figúry, alebo zmena veľkosti/iných vlastností aktuálnej figúry (okna)\n",
    "+ scatter - vytvorenie bodového grafu (scatter plot), užitočná najmä pri vizualizácii vzťahov medzi dvoma premennými\n",
    "+ xlabel, ylabel - označenia osí\n",
    "+ title - názov grafu\n",
    "+ grid - mriežka v grafe (zjednodušenie porovnávania hodnôt)\n",
    "+ axis/ylim/xlim - zobrazenie osí a ich rozsah\n",
    "+ tick_params - zobrazenie značiek na osiach (veľkosť, farba, poloha a orientácia)\n",
    "+ legend - zobrazenie a prispôsobenie legendy\n",
    "+ savefig - uloženie grafu (PNG, JPG, PDF, ..)\n",
    "+ show - zobrazenie grafu - dokumentácia LINK\n",
    "+ množstvo ďalších funkcií"
   ]
  },
  {
   "cell_type": "code",
   "execution_count": null,
   "id": "7bd2c927-8932-45ea-97cd-2e11c60f2c72",
   "metadata": {},
   "outputs": [],
   "source": [
    "# plotting using Matplotlib library\n",
    "# create data\n",
    "x = np.linspace(0, 10)\n",
    "y = np.sin(x)\n",
    "\n",
    "# create figure\n",
    "plt.figure(figsize=(10, 6)) # Nastavenie veľkosti figúry\n",
    "\n",
    "# scatter plot\n",
    "plt.scatter(x, y, label='Sin', color='blue')\n",
    "\n",
    "# labels\n",
    "plt.xlabel('X-axis')\n",
    "plt.ylabel('Y-axis')\n",
    "\n",
    "# title\n",
    "plt.title('Sample SIN Scatter Plot')\n",
    "\n",
    "# show grid\n",
    "plt.grid(True)\n",
    "\n",
    "# x/y axis limits\n",
    "plt.xlim(0, 10)\n",
    "plt.ylim(-1.5, 1.5)\n",
    "\n",
    "# axis ticks and labels\n",
    "plt.tick_params(axis='both', which='major', labelsize=10, color='red')\n",
    "\n",
    "# legend and its location\n",
    "plt.legend(loc='upper right')\n",
    "\n",
    "# save figure as PNG file\n",
    "plt.savefig('data/my_plot.png', dpi=300)\n",
    "\n",
    "# show plot\n",
    "plt.show()"
   ]
  },
  {
   "cell_type": "markdown",
   "id": "8f96641c-dd12-4ed8-8a7c-ee160a8ff29d",
   "metadata": {},
   "source": [
    "### 10. Ošetrovanie výnimiek\n",
    "\n",
    "- `try-except` blok - https://docs.python.org/3/tutorial/errors.html\n",
    "- príklady základných typov výnimiek:\n",
    "    - TypeError: vykonanie operácie s nekompatibilným typom (sčítanie reťazca a čísla)\n",
    "    - IndexError: pristúpenie k prvku zoznamu pomocou indexu, ktorý je mimo rozsah\n",
    "    - KeyError: pristúpenie k hodnote v slovníku pomocou kľúča, ktorý neexistuje\n",
    "    - ValueError: funkcia dostane argument s nevhodnou hodnotou\n",
    "    - NameError: použitie nedefinovanej premennej\n",
    "    - FileNotFoundError: pokus o otvorenie neexistujúceho súboru\n",
    "    - ZeroDivisionError: delenie čísla nulou"
   ]
  },
  {
   "cell_type": "code",
   "execution_count": null,
   "id": "8ffc700e-ea74-400e-8a44-f39ed5a6580d",
   "metadata": {},
   "outputs": [],
   "source": [
    "# error handling\n",
    "try:\n",
    "    print(undefined_variable)\n",
    "except NameError as e:\n",
    "    print(\"Error:\", e)"
   ]
  },
  {
   "cell_type": "markdown",
   "id": "08fe17db-ff0f-4355-a58b-5111545d0a6a",
   "metadata": {},
   "source": [
    "### 11. Práca s obrázkami\n",
    "\n",
    "- knižnice, napr. pillow (PIL) - https://pillow.readthedocs.io/en/stable/reference/Image.html\n",
    "- načítanie, uloženie (open/save)\n",
    "- prevod na odtiene šedej (hodnoty 0-255) - funkcia convert\n",
    "- normalizácia (hodnoty 0-1) - prospešné pre strojové učenie\n",
    "- ďalšie úpravy (rotácie, orezanie, zmena veľkosti, ..)"
   ]
  },
  {
   "cell_type": "code",
   "execution_count": null,
   "id": "0fbc6071-b605-44ec-a5ec-b707201b7ebb",
   "metadata": {},
   "outputs": [],
   "source": [
    "from PIL import Image\n",
    "import numpy as np\n",
    "\n",
    "# load image\n",
    "image = Image.open('data/microscope.jpg')\n",
    "\n",
    "# convert to grayscale\n",
    "grayscale_image = image.convert('L')\n",
    "\n",
    "# save image\n",
    "grayscale_image.save('data/microscope_g.jpg')\n",
    "\n",
    "# normalization\n",
    "# convert image to numpy array and normalize dividing by max pixel value (255) \n",
    "image_array = np.asarray(grayscale_image)\n",
    "normalized_image_array = image_array / 255.0\n",
    "\n",
    "print(normalized_image_array)"
   ]
  },
  {
   "cell_type": "markdown",
   "id": "c4fc2f28-fbba-48e2-aa0b-b1437c82ae7d",
   "metadata": {},
   "source": [
    "### 12. Práca s reťazcami\n",
    "\n",
    "- dokumentácia - https://docs.python.org/3/library/stdtypes.html\n",
    "- Spájanie reťazcov - pomocou operátora + alebo metódy join\n",
    "- Nahradzovanie textu v reťazci iným textom - funkcia replace\n",
    "- Rozdelenie reťazca - funkcia split rozdelí reťazec do zoznamu podreťazcov\n",
    "- Formátovanie reťazcov - funkcie format alebo f-strings (f\"\") umožňujú vkladať hodnoty do reťazca na určené miesta\n",
    "- Práca s veľkými a malými písmenami - funkcie upper, lower, capitalize a title\n",
    "- Orezávanie - funkcie strip, rstrip a lstrip odstránia medzery, tabulátory, nové riadky z reťazca na začiatku/konci alebo na oboch koncoch"
   ]
  },
  {
   "cell_type": "code",
   "execution_count": null,
   "id": "848ac56f-6b39-480b-aac6-19c813f0703b",
   "metadata": {},
   "outputs": [],
   "source": [
    "# concatenation\n",
    "hello = \"Hello\"\n",
    "world = \"World\"\n",
    "greeting = hello + \" \" + world\n",
    "print(greeting)\n",
    "\n",
    "# replace\n",
    "sentence = \"I like apples.\"\n",
    "new_sentence = sentence.replace(\"apples\", \"oranges\")\n",
    "print(new_sentence)\n",
    "\n",
    "# split\n",
    "data = \"one,two,three\"\n",
    "split_data = data.split(\",\")\n",
    "print(split_data)\n",
    "\n",
    "# formatting\n",
    "name = \"John\"\n",
    "age = 30\n",
    "introduction = f\"My name is {name} and I am {age} years old.\"\n",
    "print(introduction)\n",
    "\n",
    "# upper/lower case\n",
    "text = \"python programming\"\n",
    "print(text.upper())\n",
    "print(text.capitalize())\n",
    "\n",
    "# whitespace removal\n",
    "messy_string = \"   too much space   \"\n",
    "clean_string = messy_string.strip()\n",
    "print(clean_string)"
   ]
  },
  {
   "cell_type": "markdown",
   "id": "957cace2-a71c-4185-9e83-6524584d81da",
   "metadata": {},
   "source": [
    "### 13. OOP\n",
    "\n",
    "- definícia triedy kľúčovým slovom `class`\n",
    "- konštruktor - metóda `__init__`\n",
    "- prvý parameter metód - `self` - inštancia triedy, na ktorej sa volá metóda\n",
    "- inštancia - pomocou konštruktora"
   ]
  },
  {
   "cell_type": "code",
   "execution_count": null,
   "id": "a0950622-7ae1-4e3f-96cd-49b353fd269f",
   "metadata": {},
   "outputs": [],
   "source": [
    "class DataParser:\n",
    "    \n",
    "    # constructor (initialization)\n",
    "    def __init__(self, file_path):\n",
    "        # attribute\n",
    "        self.__file_path = file_path\n",
    "        self.file_content_list = []\n",
    "\n",
    "    #method\n",
    "    def __read_data(self):\n",
    "        with open(self.__file_path, 'r') as file:\n",
    "            data = file.read()\n",
    "            return data\n",
    "\n",
    "    def parse_data(self):\n",
    "        data = self.__read_data()\n",
    "        data = data.upper()\n",
    "        self.file_content_list = data.split(\" \")\n",
    "        return data\n",
    "\n",
    "# create instance \n",
    "parser = DataParser('data/example.txt')\n",
    "\n",
    "# call class method\n",
    "processed_data = parser.parse_data()\n",
    "\n",
    "print(processed_data)\n",
    "print(parser.file_content_list)"
   ]
  },
  {
   "cell_type": "markdown",
   "id": "8e11f6e2-2596-461e-8a25-79de730a4337",
   "metadata": {},
   "source": [
    "### 14. Lambda funkcie\n",
    "\n",
    "- anonymné funkcie, definované pomocou kľúčového slova lambda - https://docs.python.org/3/reference/expressions.html\n",
    "- ľubovoľný počet argumentov, ale len jeden výraz, ktorý je vyhodnotený a vrátený\n",
    "- forma `lambda arguments: expression`"
   ]
  },
  {
   "cell_type": "code",
   "execution_count": null,
   "id": "f476f1b5-c285-4bcc-bf5e-668f5eb00af6",
   "metadata": {},
   "outputs": [],
   "source": [
    "# Lambda function to calculate square of a number\n",
    "square = lambda x: x**2\n",
    "\n",
    "print(\"Square of 5 using lambda function:\", square(5))"
   ]
  },
  {
   "cell_type": "markdown",
   "id": "a12c0ef2-3d67-43d5-b1b0-a0f11e37e0fa",
   "metadata": {},
   "source": [
    "### 15. Mapovanie, filtrovanie a redukcia\n",
    "\n",
    "- použitie pri spracovaní kolekcií\n",
    "+ **map** - https://docs.python.org/3/library/functions.html#map\n",
    "    - aplikuje danú funkciu na každý prvok iterovateľného objektu (napr. zoznam) a vracia iterátor s výsledkami\n",
    "    - napr. použitie s lambda funkciou na výpočet štvorca každého čísla v zozname numbers\n",
    "+ **filter** - https://docs.python.org/3/library/functions.html#filter\n",
    "    - odfiltruje prvky iterovateľného objektu, ponechávajúc len tie, pre ktoré funkcia vráti True\n",
    "    - napr. lambda funkcia s vyselektovanie len párnych čísel zo zoznamu numbers\n",
    "+ **reduce** - https://docs.python.org/3/library/functools.html\n",
    "    - reduce postupne aplikuje funkciu na prvky iterovateľného objektu, znižuje ich na jediný výsledok\n",
    "    - napr. funkcia reduce z modulu functools s lambda funkciou na výpočet súčinu všetkých čísel v zozname numbers"
   ]
  },
  {
   "cell_type": "code",
   "execution_count": null,
   "id": "ff272bae-ee12-4d28-8ba9-86c161db0b92",
   "metadata": {},
   "outputs": [],
   "source": [
    "# map function\n",
    "numbers = [1, 2, 3, 4, 5]\n",
    "squared_numbers = list(map(lambda x: x**2, numbers))\n",
    "print(\"Squared numbers:\", squared_numbers)"
   ]
  },
  {
   "cell_type": "code",
   "execution_count": null,
   "id": "68343091-69f7-4bc2-9029-8c72f6a6698e",
   "metadata": {},
   "outputs": [],
   "source": [
    "# filter function\n",
    "even_numbers = list(filter(lambda x: x % 2 == 0, numbers))\n",
    "print(\"Even numbers:\", even_numbers)"
   ]
  },
  {
   "cell_type": "code",
   "execution_count": null,
   "id": "99a53368-2837-4973-b49b-176b84e2bbe8",
   "metadata": {},
   "outputs": [],
   "source": [
    "# reduce function\n",
    "from functools import reduce\n",
    "product = reduce(lambda x, y: x * y, numbers)\n",
    "print(\"Product of numbers:\", product)"
   ]
  },
  {
   "cell_type": "markdown",
   "id": "5d9c1a49-ba5a-41f6-bc41-68f7d09eafc5",
   "metadata": {},
   "source": [
    "### 16. Dekorátory\n",
    "\n",
    "- funkcia, ktorá umožňuje zmeniť alebo rozšíriť správanie inej funkcie bez zásahu do jej kódu\n",
    "- dekorátor prijíma funkciu ako parameter a vracia novú funkciu, táto nová funkcia obvykle volá pôvodnú funkciu a okolo nej pridáva dodatočnú funkcionalitu\n",
    "- často používané pre logovanie, kontrolu prístupu, caching, validáciu a pod.\n",
    "- dokumentácia - https://docs.python.org/3/glossary.html"
   ]
  },
  {
   "cell_type": "code",
   "execution_count": 39,
   "id": "d6d69645-0c21-4943-8868-795074f3f08a",
   "metadata": {},
   "outputs": [],
   "source": [
    "# decorator definition\n",
    "def decorator(func):\n",
    "    \"\"\"Decorator function to add functionality to another function.\"\"\"\n",
    "    def wrapper():\n",
    "        print(\"Executing some code before the function\")\n",
    "        result = func()  # Call the decorated function and store the result\n",
    "        print(\"Executing some code after the function\")\n",
    "        return result  # Return the result of the function call\n",
    "    return wrapper"
   ]
  },
  {
   "cell_type": "markdown",
   "id": "d748ff5a-f1fe-4c8e-adc8-a33979a0ba26",
   "metadata": {},
   "source": [
    "- ### Použitie dekorátora\n",
    "    - použitie dekorátora - pomocou `@` a jeho názvu\n",
    "    - automaticky aplikuje na funkciu a vráti upravenú verziu tejto funkcie"
   ]
  },
  {
   "cell_type": "code",
   "execution_count": null,
   "id": "47b96d8a-7f02-4b5b-ab4b-4dc322f09792",
   "metadata": {},
   "outputs": [],
   "source": [
    "@decorator\n",
    "def greet_new():\n",
    "    return \"Hello, decorator!\"\n",
    "\n",
    "print(greet_new())"
   ]
  },
  {
   "cell_type": "markdown",
   "id": "9f592475-98f6-4bbf-8669-f454e6cdb590",
   "metadata": {},
   "source": [
    "### 17. DataFrame (Pandas)\n",
    "\n",
    "- dokumentácia - https://pandas.pydata.org/docs/reference/api/pandas.DataFrame.html\n",
    "- dvojrozmerná dátová štruktúra (tabuľka) v knižnici Pandas\n",
    "- práca so štruktúrovanými dátami\n",
    "- efektívne operácie\n",
    "- Základné vlastnosti DataFrame:\n",
    "    - môže obsahovať heterogénne údaje - čísla, reťazce, objekty, ..\n",
    "    - aritmetické operácie na riadkoch a stĺpcoch\n",
    "    - zlučovanie, spájanie, filtrácia dát, atď."
   ]
  },
  {
   "cell_type": "code",
   "execution_count": null,
   "id": "cffa1f02-9842-4ff1-b8ae-66e831f588d7",
   "metadata": {},
   "outputs": [],
   "source": [
    "import pandas as pd\n",
    "\n",
    "# create DataFrame from dictionary\n",
    "data = {\n",
    "    'name': ['Anna', 'Jan', 'Peter', 'Zuzana'],\n",
    "    'age': [28, 15, 29, 40],\n",
    "    'city': ['Bratislava', 'Kosice', 'Presov', 'Zilina']\n",
    "}\n",
    "df = pd.DataFrame(data)\n",
    "\n",
    "# show dataframe\n",
    "print(df)"
   ]
  },
  {
   "cell_type": "code",
   "execution_count": null,
   "id": "a79aa7e8-d506-4203-814c-9e29c5103506",
   "metadata": {},
   "outputs": [],
   "source": [
    "# get specific column\n",
    "age = df['age']\n",
    "\n",
    "# add new column\n",
    "df['adult'] = df['age'] > 18\n",
    "\n",
    "# filter data\n",
    "adults = df[df['adult']]\n",
    "\n",
    "print(age)\n",
    "print(df)\n",
    "print(adults)"
   ]
  },
  {
   "cell_type": "markdown",
   "id": "2d21f8cf-fe1a-4326-bf51-08c259205b21",
   "metadata": {},
   "source": [
    "----\n",
    "\n",
    "##### Referencie\n",
    "\n",
    "https://docs.python.org/3.12/tutorial/index.html\n",
    "https://python.input.sk/z/01.html\n",
    "https://unsplash.com/photos/a-close-up-of-a-section-of-a-humans-stomach-Q2PkRn63Oug"
   ]
  }
 ],
 "metadata": {
  "kernelspec": {
   "display_name": "Python 3 (ipykernel)",
   "language": "python",
   "name": "python3"
  },
  "language_info": {
   "codemirror_mode": {
    "name": "ipython",
    "version": 3
   },
   "file_extension": ".py",
   "mimetype": "text/x-python",
   "name": "python",
   "nbconvert_exporter": "python",
   "pygments_lexer": "ipython3",
   "version": "3.12.1"
  }
 },
 "nbformat": 4,
 "nbformat_minor": 5
}
